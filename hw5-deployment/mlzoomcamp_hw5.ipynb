{
 "cells": [
  {
   "cell_type": "markdown",
   "metadata": {},
   "source": [
    "\n",
    "Link to HW5: https://github.com/DataTalksClub/machine-learning-zoomcamp/blob/master/cohorts/2023/05-deployment/homework.md#models\n",
    "\n",
    "#### Question 1\n",
    "- Install Pipenv\n",
    "- What's the version of pipenv you installed?\n",
    "- Use --version to find out"
   ]
  },
  {
   "cell_type": "code",
   "execution_count": 1,
   "metadata": {},
   "outputs": [],
   "source": [
    "#!pip install pipenv"
   ]
  },
  {
   "cell_type": "code",
   "execution_count": 1,
   "metadata": {},
   "outputs": [
    {
     "name": "stdout",
     "output_type": "stream",
     "text": [
      "\u001b[1mpipenv\u001b[0m, version 2023.10.3\n"
     ]
    }
   ],
   "source": [
    "!pipenv --version"
   ]
  },
  {
   "cell_type": "markdown",
   "metadata": {},
   "source": [
    "#### Question 2\n",
    "- Use Pipenv to install Scikit-Learn version 1.3.1 --DONE, see below code blocks\n",
    "- What's the first hash for scikit-learn you get in Pipfile.lock?\n",
    "\n",
    "Answer: sha256:0c275a06c5190c5ce00af0acbb61c06374087949f643ef32d355ece12c4db043"
   ]
  },
  {
   "cell_type": "code",
   "execution_count": 4,
   "metadata": {},
   "outputs": [
    {
     "name": "stdout",
     "output_type": "stream",
     "text": [
      "\u001b[1mClearing caches...\u001b[0m\n"
     ]
    }
   ],
   "source": [
    "!pipenv --clear"
   ]
  },
  {
   "cell_type": "code",
   "execution_count": 2,
   "metadata": {},
   "outputs": [
    {
     "name": "stdout",
     "output_type": "stream",
     "text": [
      "\u001b[31m\u001b[1mWarning\u001b[0m: the environment variable \u001b[1mLANG\u001b[0m is not set!\n",
      "We recommend setting this in \u001b[32m~/.profile\u001b[0m (or equivalent) for proper expected behavior.\n",
      "\u001b[1mCreating a virtualenv for this project...\u001b[0m\n",
      "Pipfile: \u001b[33m\u001b[1m/Users/ming/Desktop/mlzoomcamp23/hw5-deployment/Pipfile\u001b[0m\n",
      "\u001b[1mUsing\u001b[0m \u001b[33m\u001b[1m/Library/Frameworks/Python.framework/Versions/3.10/bin/python3\u001b[0m \u001b[32m(3.10.4)\u001b[0m \u001b[1mto create virtualenv...\u001b[0m\n",
      "\u001b[2K\u001b[32m⠇\u001b[0m Creating virtual environment.....\u001b[36mcreated virtual environment CPython3.10.4.final.0-64 in 644ms\n",
      "  creator CPython3Posix(dest=/Users/ming/.local/share/virtualenvs/hw5-deployment-YbNYhqEz, clear=False, no_vcs_ignore=False, global=False)\n",
      "  seeder FromAppData(download=False, pip=bundle, setuptools=bundle, wheel=bundle, via=copy, app_data_dir=/Users/ming/Library/Application Support/virtualenv)\n",
      "    added seed packages: pip==23.2.1, setuptools==68.2.0, wheel==0.41.2\n",
      "  activators BashActivator,CShellActivator,FishActivator,NushellActivator,PowerShellActivator,PythonActivator\n",
      "\u001b[0m\n",
      "✔ Successfully created virtual environment!\n",
      "\u001b[2K\u001b[32m⠏\u001b[0m Creating virtual environment...\n",
      "\u001b[1A\u001b[2K\u001b[32mVirtualenv location: /Users/ming/.local/share/virtualenvs/hw5-deployment-YbNYhqEz\u001b[0m\n",
      "\u001b[1;32mInstalling scikit-\u001b[0m\u001b[1;33mlearn\u001b[0m\u001b[1;32m==\u001b[0m\u001b[1;36m1.3\u001b[0m\u001b[1;32m.\u001b[0m\u001b[1;36m1\u001b[0m\u001b[1;33m...\u001b[0m\n",
      "\u001b[?25lResolving scikit-\u001b[33mlearn\u001b[0m==\u001b[1;36m1.3\u001b[0m.\u001b[1;36m1\u001b[0m\u001b[33m...\u001b[0m\n",
      "\u001b[2K✔ Installation Succeeded\n",
      "\u001b[2K\u001b[32m⠋\u001b[0m Installing scikit-learn...\n",
      "\u001b[1A\u001b[2K\u001b[1;33mPipfile.lock \u001b[0m\u001b[1;33m(\u001b[0m\u001b[1;33m1bed02\u001b[0m\u001b[1;33m)\u001b[0m\u001b[1;33m out of date, updating to \u001b[0m\u001b[1;33m(\u001b[0m\u001b[1;33me23712\u001b[0m\u001b[1;33m)\u001b[0m\u001b[1;33m...\u001b[0m\n",
      "Locking\u001b[0m \u001b[33m[packages]\u001b[0m dependencies...\u001b[0m\n",
      "\u001b[?25lBuilding requirements\u001b[33m...\u001b[0m\n",
      "\u001b[2KResolving dependencies\u001b[33m...\u001b[0m\n",
      "\u001b[2K✔ Success! Locking...\n",
      "\u001b[2K\u001b[32m⠇\u001b[0m Locking...\n",
      "\u001b[1A\u001b[2KLocking\u001b[0m \u001b[33m[dev-packages]\u001b[0m dependencies...\u001b[0m\n",
      "\u001b[1mUpdated Pipfile.lock (90896223db943e3f465183947bc7dff27edde1ecfdc461e72aa4672b8ae23712)!\u001b[0m\n",
      "\u001b[1mInstalling dependencies from Pipfile.lock \u001b[0m\u001b[1m(\u001b[0m\u001b[1me23712\u001b[0m\u001b[1m)\u001b[0m\u001b[1;33m...\u001b[0m\n",
      "To activate this project's virtualenv, run \u001b[33mpipenv shell\u001b[0m.\n",
      "Alternatively, run a command inside the virtualenv with \u001b[33mpipenv run\u001b[0m.\n"
     ]
    }
   ],
   "source": [
    "!pipenv install scikit-learn==1.3.1"
   ]
  },
  {
   "cell_type": "markdown",
   "metadata": {},
   "source": [
    "- running !pipenv install sklearn==1.3.1 gave me an error but !pipenv install scikit-learn==1.3.1 was successful. The correct package name to install is scikit-learn\n",
    "- This command creates a new virtual environment for this project if one doesnt already exist.\n",
    "- It installs the specified version of Scikit-Learn within this environment.\n",
    "- This step automatically create a `Pipfile.lock` if it doesnt exist, which ensures that we'll have the exact same versions of all dependencies that I've installed."
   ]
  },
  {
   "cell_type": "code",
   "execution_count": 4,
   "metadata": {},
   "outputs": [
    {
     "name": "stdout",
     "output_type": "stream",
     "text": [
      "Locking\u001b[0m \u001b[33m[packages]\u001b[0m dependencies...\u001b[0m\n",
      "\u001b[?25lBuilding requirements\u001b[33m...\u001b[0m\n",
      "\u001b[2KResolving dependencies\u001b[33m...\u001b[0m\n",
      "\u001b[2K✔ Success! Locking...\n",
      "\u001b[2K\u001b[32m⠴\u001b[0m Locking...\n",
      "\u001b[1A\u001b[2KLocking\u001b[0m \u001b[33m[dev-packages]\u001b[0m dependencies...\u001b[0m\n",
      "\u001b[1mUpdated Pipfile.lock (90896223db943e3f465183947bc7dff27edde1ecfdc461e72aa4672b8ae23712)!\u001b[0m\n"
     ]
    }
   ],
   "source": [
    "# to update the Pipfile.lock file\n",
    "!pipenv lock"
   ]
  },
  {
   "cell_type": "markdown",
   "metadata": {},
   "source": [
    "#### Models\n",
    "\n",
    "We've prepared a dictionary vectorizer and a model.\n",
    "\n",
    "They were trained (roughly) using this code:\n",
    "\n",
    "    features = ['job','duration', 'poutcome']\n",
    "    dicts = df[features].to_dict(orient='records')\n",
    "\n",
    "    dv = DictVectorizer(sparse=False)\n",
    "    X = dv.fit_transform(dicts)\n",
    "\n",
    "    model = LogisticRegression().fit(X, y)\n",
    "    \n",
    "Note: You don't need to train the model. This code is just for your reference.\n",
    "\n",
    "And then saved with Pickle. Download them:\n",
    "\n",
    "- DictVectorizer\n",
    "- LogisticRegression\n",
    "\n",
    "With wget:\n",
    "\n",
    "PREFIX=https://raw.githubusercontent.com/DataTalksClub/machine-learning-zoomcamp/master/cohorts/2023/05-deployment/homework\n",
    "\n",
    "wget $PREFIX/model1.bin\n",
    "\n",
    "wget $PREFIX/dv.bin"
   ]
  },
  {
   "cell_type": "code",
   "execution_count": 7,
   "metadata": {},
   "outputs": [
    {
     "name": "stdout",
     "output_type": "stream",
     "text": [
      "--2023-10-16 16:18:32--  https://raw.githubusercontent.com/DataTalksClub/machine-learning-zoomcamp/master/cohorts/2023/05-deployment/homework/model1.bin\n",
      "Resolving raw.githubusercontent.com (raw.githubusercontent.com)... 2606:50c0:8001::154, 2606:50c0:8002::154, 2606:50c0:8003::154, ...\n",
      "Connecting to raw.githubusercontent.com (raw.githubusercontent.com)|2606:50c0:8001::154|:443... connected.\n",
      "HTTP request sent, awaiting response... 200 OK\n",
      "Length: 842 [application/octet-stream]\n",
      "Saving to: ‘model1.bin’\n",
      "\n",
      "model1.bin          100%[===================>]     842  --.-KB/s    in 0s      \n",
      "\n",
      "2023-10-16 16:18:33 (80.3 MB/s) - ‘model1.bin’ saved [842/842]\n",
      "\n",
      "--2023-10-16 16:18:33--  https://raw.githubusercontent.com/DataTalksClub/machine-learning-zoomcamp/master/cohorts/2023/05-deployment/homework/dv.bin\n",
      "Resolving raw.githubusercontent.com (raw.githubusercontent.com)... 2606:50c0:8001::154, 2606:50c0:8002::154, 2606:50c0:8003::154, ...\n",
      "Connecting to raw.githubusercontent.com (raw.githubusercontent.com)|2606:50c0:8001::154|:443... connected.\n",
      "HTTP request sent, awaiting response... 200 OK\n",
      "Length: 560 [application/octet-stream]\n",
      "Saving to: ‘dv.bin’\n",
      "\n",
      "dv.bin              100%[===================>]     560  --.-KB/s    in 0s      \n",
      "\n",
      "2023-10-16 16:18:33 (48.6 MB/s) - ‘dv.bin’ saved [560/560]\n",
      "\n"
     ]
    }
   ],
   "source": [
    "# download pickle\n",
    "!wget https://raw.githubusercontent.com/DataTalksClub/machine-learning-zoomcamp/master/cohorts/2023/05-deployment/homework/model1.bin\n",
    "!wget https://raw.githubusercontent.com/DataTalksClub/machine-learning-zoomcamp/master/cohorts/2023/05-deployment/homework/dv.bin"
   ]
  },
  {
   "cell_type": "markdown",
   "metadata": {},
   "source": [
    "#### Question 3\n",
    "\n",
    "Let's use these models!\n",
    "\n",
    "- Write a script for loading these models with pickle\n",
    "- Score this client:\n",
    "`{\"job\": \"retired\", \"duration\": 445, \"poutcome\": \"success\"}`\n",
    "\n",
    "What's the probability that this client will get a credit?\n",
    "\n",
    "- 0.162\n",
    "- 0.392\n",
    "- 0.652\n",
    "- 0.902 THIS ONE\n",
    "\n",
    "If you're getting errors when unpickling the files, check their checksum:\n",
    "\n",
    "$ md5sum model1.bin dv.bin\n",
    "\n",
    "8ebfdf20010cfc7f545c43e3b52fc8a1  model1.bin\n",
    "\n",
    "924b496a89148b422c74a62dbc92a4fb  dv.bin"
   ]
  },
  {
   "cell_type": "code",
   "execution_count": 8,
   "metadata": {},
   "outputs": [
    {
     "name": "stdout",
     "output_type": "stream",
     "text": [
      "The probability that this client will get a credit is: \n",
      " 0.9019309332297606\n"
     ]
    },
    {
     "name": "stderr",
     "output_type": "stream",
     "text": [
      "/Users/ming/miniconda3/lib/python3.9/site-packages/sklearn/base.py:299: UserWarning: Trying to unpickle estimator DictVectorizer from version 1.3.1 when using version 1.2.1. This might lead to breaking code or invalid results. Use at your own risk. For more info please refer to:\n",
      "https://scikit-learn.org/stable/model_persistence.html#security-maintainability-limitations\n",
      "  warnings.warn(\n",
      "/Users/ming/miniconda3/lib/python3.9/site-packages/sklearn/base.py:299: UserWarning: Trying to unpickle estimator LogisticRegression from version 1.3.1 when using version 1.2.1. This might lead to breaking code or invalid results. Use at your own risk. For more info please refer to:\n",
      "https://scikit-learn.org/stable/model_persistence.html#security-maintainability-limitations\n",
      "  warnings.warn(\n"
     ]
    }
   ],
   "source": [
    "import pickle\n",
    "\n",
    "# load the models using pickle\n",
    "def load_file(filename: str):\n",
    "    with open(filename, 'rb') as file_in:\n",
    "        return pickle.load(file_in)\n",
    "\n",
    "dict_vectorizer = load_file('dv.bin')\n",
    "logistic_regression_model = load_file('model1.bin')\n",
    "\n",
    "client_data = {\"job\": \"retired\", \"duration\": 445, \"poutcome\": \"success\"}\n",
    "\n",
    "# transform the client's data using the DictVectorizer\n",
    "X = dict_vectorizer.transform([client_data])\n",
    "\n",
    "# make a prediction using the logistic regression model\n",
    "y_pred = logistic_regression_model.predict_proba(X)[0, 1]\n",
    "\n",
    "print(\"The probability that this client will get a credit is: \\n\", y_pred)"
   ]
  },
  {
   "cell_type": "code",
   "execution_count": 4,
   "metadata": {},
   "outputs": [
    {
     "name": "stdout",
     "output_type": "stream",
     "text": [
      "MD5 (model1.bin) = 8ebfdf20010cfc7f545c43e3b52fc8a1\n",
      "MD5 (dv.bin) = 924b496a89148b422c74a62dbc92a4fb\n"
     ]
    }
   ],
   "source": [
    "!md5 model1.bin dv.bin"
   ]
  },
  {
   "cell_type": "markdown",
   "metadata": {},
   "source": [
    "#### Question 4\n",
    "\n",
    "Now let's serve this model as a web service\n",
    "\n",
    "- Install Flask and gunicorn (or waitress, if you're on Windows)\n",
    "- Write Flask code for serving the model\n",
    "- Now score this client using requests:\n",
    "\n",
    "url = \"YOUR_URL\"\n",
    "\n",
    "client = {\"job\": \"unknown\", \"duration\": 270, \"poutcome\": \"failure\"}\n",
    "\n",
    "requests.post(url, json=client).json()\n",
    "\n",
    "What's the probability that this client will get a credit?\n",
    "\n",
    "- 0.140 THIS ONE\n",
    "- 0.440\n",
    "- 0.645\n",
    "- 0.845"
   ]
  },
  {
   "cell_type": "code",
   "execution_count": 5,
   "metadata": {},
   "outputs": [
    {
     "name": "stdout",
     "output_type": "stream",
     "text": [
      "Requirement already satisfied: Flask in /Users/ming/miniconda3/lib/python3.9/site-packages (2.2.3)\n",
      "Collecting gunicorn\n",
      "  Downloading gunicorn-21.2.0-py3-none-any.whl (80 kB)\n",
      "\u001b[K     |████████████████████████████████| 80 kB 3.5 MB/s eta 0:00:011\n",
      "\u001b[?25hRequirement already satisfied: itsdangerous>=2.0 in /Users/ming/miniconda3/lib/python3.9/site-packages (from Flask) (2.1.2)\n",
      "Requirement already satisfied: click>=8.0 in /Users/ming/miniconda3/lib/python3.9/site-packages (from Flask) (8.1.3)\n",
      "Requirement already satisfied: Werkzeug>=2.2.2 in /Users/ming/miniconda3/lib/python3.9/site-packages (from Flask) (2.2.3)\n",
      "Requirement already satisfied: Jinja2>=3.0 in /Users/ming/miniconda3/lib/python3.9/site-packages (from Flask) (3.1.2)\n",
      "Requirement already satisfied: importlib-metadata>=3.6.0 in /Users/ming/miniconda3/lib/python3.9/site-packages (from Flask) (6.0.0)\n",
      "Requirement already satisfied: packaging in /Users/ming/miniconda3/lib/python3.9/site-packages (from gunicorn) (23.0)\n",
      "Requirement already satisfied: zipp>=0.5 in /Users/ming/miniconda3/lib/python3.9/site-packages (from importlib-metadata>=3.6.0->Flask) (3.12.1)\n",
      "Requirement already satisfied: MarkupSafe>=2.0 in /Users/ming/miniconda3/lib/python3.9/site-packages (from Jinja2>=3.0->Flask) (2.1.1)\n",
      "Installing collected packages: gunicorn\n",
      "Successfully installed gunicorn-21.2.0\n"
     ]
    }
   ],
   "source": [
    "#!pip install Flask gunicorn"
   ]
  },
  {
   "cell_type": "markdown",
   "metadata": {},
   "source": [
    "Notes:\n",
    "- see q4_predict.py and q4_test.py\n",
    "- If you are in the same terminal window where gunicorn is running: You can press Ctrl + C on your keyboard to terminate the server.\n",
    "- If you have closed the terminal or gunicorn is running in the background: \n",
    "    - To list all processes running gunicorn, you can use ps aux | grep gunicorn.\n",
    "    - Use the kill command to terminate the gunicorn process: kill -9 PID.\n"
   ]
  },
  {
   "cell_type": "markdown",
   "metadata": {},
   "source": [
    "#### Docker\n",
    "\n",
    "Install Docker. We will use it for the next two questions.\n",
    "\n",
    "For these questions, we prepared a base image: svizor/zoomcamp-model:3.10.12-slim. You'll need to use it (see Question 5 for an example).\n",
    "\n",
    "This image is based on python:3.10.12-slim and has a logistic regression model (a different one) as well a dictionary vectorizer inside.\n",
    "\n",
    "This is how the Dockerfile for this image looks like:\n",
    "\n",
    "FROM python:3.10.12-slim\n",
    "WORKDIR /app\n",
    "COPY [\"model2.bin\", \"dv.bin\", \"./\"]\n",
    "We already built it and then pushed it to svizor/zoomcamp-model:3.10.12-slim.\n",
    "\n",
    "Note: You don't need to build this docker image, it's just for your reference.\n",
    "\n",
    "How to:\n",
    "\n",
    "In terminal: `docker pull svizor/zoomcamp-model:3.10.12-slim`"
   ]
  },
  {
   "cell_type": "markdown",
   "metadata": {},
   "source": [
    "#### Question 5\n",
    "Download the base image svizor/zoomcamp-model:3.10.12-slim. You can easily make it by using docker pull command.\n",
    "\n",
    "So what's the size of this base image?\n",
    "\n",
    "- 47 MB\n",
    "- 147 MB THIS \n",
    "- 374 MB\n",
    "- 574 MB\n",
    "\n",
    "You can get this information when running `docker images` - it'll be in the \"SIZE\" column.\n",
    "\n",
    "#### Dockerfile\n",
    "Now create your own Dockerfile based on the image we prepared.\n",
    "\n",
    "It should start like that:\n",
    "\n",
    "    FROM svizor/zoomcamp-model:3.10.12-slim\n",
    "    # add your stuff here\n",
    "\n",
    "Now complete it:\n",
    "\n",
    "- Install all the dependencies form the Pipenv file\n",
    "- Copy your Flask script\n",
    "- Run it with Gunicorn\n",
    "\n",
    "After that, you can build your docker image.\n",
    "\n",
    "Notes:\n",
    "\n",
    "In one terminal window:\n",
    "- if we update pipfile, we need to update pipfile.lock\n",
    "    - pipenv lock\n",
    "- Build the Docker image: \n",
    "    - docker build --platform linux/arm64/v8 -t credit_model_app .\n",
    "- run a container from the image and start a shell session inside it: \n",
    "    - docker run --platform linux/arm64/v8 -it --entrypoint /bin/bash credit_model_app\n",
    "    - run this: docker run --platform linux/arm64/v8 -p 9696:9696 credit_model_app\n",
    "\n",
    "In another terminal window:\n",
    "- python q6_test.py\n"
   ]
  },
  {
   "cell_type": "markdown",
   "metadata": {},
   "source": [
    "#### Question 6\n",
    "\n",
    "Let's run your docker container!\n",
    "\n",
    "After running it, score this client once again:\n",
    "\n",
    "url = \"YOUR_URL\"\n",
    "client = {\"job\": \"retired\", \"duration\": 445, \"poutcome\": \"success\"}\n",
    "requests.post(url, json=client).json()\n",
    "\n",
    "What's the probability that this client will get a credit now?\n",
    "\n",
    "0.168\n",
    "\n",
    "0.530\n",
    "\n",
    "0.730\n",
    "\n",
    "0.968 THIS\n"
   ]
  },
  {
   "cell_type": "markdown",
   "metadata": {},
   "source": []
  }
 ],
 "metadata": {
  "kernelspec": {
   "display_name": "comp150_cv_env",
   "language": "python",
   "name": "python3"
  },
  "language_info": {
   "codemirror_mode": {
    "name": "ipython",
    "version": 3
   },
   "file_extension": ".py",
   "mimetype": "text/x-python",
   "name": "python",
   "nbconvert_exporter": "python",
   "pygments_lexer": "ipython3",
   "version": "3.9.12"
  },
  "orig_nbformat": 4
 },
 "nbformat": 4,
 "nbformat_minor": 2
}
